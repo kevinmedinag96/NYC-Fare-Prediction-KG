{
 "cells": [
  {
   "cell_type": "markdown",
   "metadata": {},
   "source": [
    "This notebook connects to our Azure SQL Database, defines the working schema for our project, and finally we will set a procedure to access the NYC yellow taxi trip endpoints, load data parquets and ingest the data into the db"
   ]
  },
  {
   "cell_type": "markdown",
   "metadata": {},
   "source": [
    "# Connection to Azure SQL DB"
   ]
  },
  {
   "cell_type": "markdown",
   "metadata": {},
   "source": [
    "First, we have to connect to de deployed db in azure"
   ]
  },
  {
   "cell_type": "code",
   "execution_count": 2,
   "metadata": {},
   "outputs": [],
   "source": [
    "import os\n",
    "import pyodbc"
   ]
  },
  {
   "cell_type": "code",
   "execution_count": 3,
   "metadata": {},
   "outputs": [],
   "source": [
    "connection_string = os.environ[\"AZURE_SQL_CONNECTION\"]"
   ]
  },
  {
   "cell_type": "markdown",
   "metadata": {},
   "source": [
    "# Defining DB schema"
   ]
  },
  {
   "cell_type": "code",
   "execution_count": 5,
   "metadata": {},
   "outputs": [],
   "source": [
    "def define_table_in_db():\n",
    "    try:\n",
    "        conn = pyodbc.connect(connection_string)\n",
    "        cursor = conn.cursor()\n",
    "\n",
    "        cursor.execute(\"\"\"\n",
    "        CREATE TABLE taxi_zones (\n",
    "            location_id INT PRIMARY KEY,\n",
    "            borough VARCHAR,\n",
    "            zone VARCHAR                 \n",
    "                       )\n",
    "\n",
    "        \"\"\")\n",
    "\n",
    "        cursor.execute(\"\"\"\n",
    "            SELECT COUNT(*) as count\n",
    "            FROM taxi_zones\n",
    "        \"\"\")\n",
    "        for row in cursor.fetchall():\n",
    "            print(row.count)\n",
    "                       \n",
    "\n",
    "        cursor.execute(\"\"\"\n",
    "        CREATE TABLE trips_spatial (\n",
    "            trip_id INT NOT NULL PRIMARY KEY,\n",
    "            pu_datetime DATETIME,\n",
    "            do_datetime DATETIME,\n",
    "            passenger_count INT,\n",
    "            trip_distance DECIMAL,\n",
    "            pu_location INT FOREIGN KEY REFERENCES taxi_zones(location_id),\n",
    "            do_location INT FOREIGN KEY REFERENCES taxi_zones(location_id)              \n",
    "                       )\n",
    "\n",
    "        \"\"\")\n",
    "\n",
    "        cursor.execute(\"\"\"\n",
    "            SELECT COUNT(*) as count\n",
    "            FROM trips_spatial\n",
    "        \"\"\")\n",
    "        for row in cursor.fetchall():\n",
    "            print(row.count)\n",
    "\n",
    "        cursor.execute(\"\"\"\n",
    "        CREATE TABLE trips_charges (\n",
    "            trip_id INT UNIQUE FOREIGN KEY REFERENCES trips_spatial(trip_id),\n",
    "            rate_code_id INT,\n",
    "            payment_type INT,\n",
    "            fare_amount DECIMAL,\n",
    "            extra DECIMAL,\n",
    "            mta_tax DECIMAL,\n",
    "            improvement_surcharge DECIMAL,\n",
    "            congestion_surcharge DECIMAL,\n",
    "            airport_fee DECIMAL,\n",
    "            tip_amount DECIMAL,\n",
    "            tolls_amount DECIMAL,\n",
    "            total_amount DECIMAL      \n",
    "                             \n",
    "                       )\n",
    "\n",
    "        \"\"\")\n",
    "\n",
    "        cursor.execute(\"\"\"\n",
    "            SELECT COUNT(*) as count\n",
    "            FROM trips_spatial\n",
    "        \"\"\")\n",
    "        for row in cursor.fetchall():\n",
    "            print(row.count)\n",
    "\n",
    "        conn.commit()\n",
    "\n",
    "\n",
    "    except Exception as e:\n",
    "        print(e)"
   ]
  },
  {
   "cell_type": "code",
   "execution_count": 6,
   "metadata": {},
   "outputs": [
    {
     "name": "stdout",
     "output_type": "stream",
     "text": [
      "0\n",
      "0\n",
      "0\n"
     ]
    }
   ],
   "source": [
    "define_table_in_db()"
   ]
  },
  {
   "cell_type": "code",
   "execution_count": 8,
   "metadata": {},
   "outputs": [
    {
     "name": "stdout",
     "output_type": "stream",
     "text": [
      "taxi_zones\n",
      "trips_spatial\n",
      "trips_charges\n"
     ]
    }
   ],
   "source": [
    "conn = pyodbc.connect(connection_string)\n",
    "cursor = conn.cursor()\n",
    "\n",
    "cursor.execute(\"\"\"\n",
    "        SELECT name \n",
    "        FROM sys.tables;\n",
    "        \"\"\")\n",
    "for row in cursor.fetchall():\n",
    "    print(row.name)"
   ]
  }
 ],
 "metadata": {
  "kernelspec": {
   "display_name": "nyc-fare-prediction",
   "language": "python",
   "name": "python3"
  },
  "language_info": {
   "codemirror_mode": {
    "name": "ipython",
    "version": 3
   },
   "file_extension": ".py",
   "mimetype": "text/x-python",
   "name": "python",
   "nbconvert_exporter": "python",
   "pygments_lexer": "ipython3",
   "version": "3.10.15"
  }
 },
 "nbformat": 4,
 "nbformat_minor": 2
}
